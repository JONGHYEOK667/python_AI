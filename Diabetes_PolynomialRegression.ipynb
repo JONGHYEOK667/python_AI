{
 "cells": [
  {
   "cell_type": "code",
   "execution_count": 1,
   "id": "c8684177-53c8-45cd-99ed-c396d65487bf",
   "metadata": {},
   "outputs": [],
   "source": [
    "# 0.필요모듈 import\n",
    "from sklearn import datasets\n",
    "from sklearn.preprocessing import PolynomialFeatures\n",
    "\n",
    "from sklearn.model_selection import train_test_split\n",
    "from sklearn.linear_model import LinearRegression\n",
    "from sklearn.metrics import mean_squared_error\n",
    "\n",
    "import pandas as pd  "
   ]
  },
  {
   "cell_type": "code",
   "execution_count": 2,
   "id": "91dffabe-211d-4ca8-bd2d-c55578c06385",
   "metadata": {},
   "outputs": [
    {
     "name": "stdout",
     "output_type": "stream",
     "text": [
      "<class 'sklearn.utils._bunch.Bunch'>\n"
     ]
    }
   ],
   "source": [
    "# 1. 데이터셋 로드\n",
    "diabetes_dataset = datasets.load_diabetes()\n",
    "\n",
    "# 1.1 변수 타입 및 속성 확인\n",
    "print(type(diabetes_dataset))"
   ]
  },
  {
   "cell_type": "code",
   "execution_count": 3,
   "id": "93694b72-8bdc-4aaa-8cb7-770ef2793d94",
   "metadata": {},
   "outputs": [
    {
     "name": "stdout",
     "output_type": "stream",
     "text": [
      "['DESCR', 'data', 'data_filename', 'data_module', 'feature_names', 'frame', 'target', 'target_filename']\n"
     ]
    }
   ],
   "source": [
    "print(dir(diabetes_dataset))"
   ]
  },
  {
   "cell_type": "code",
   "execution_count": 4,
   "id": "2c7e8a3c-14cd-4335-8867-f81c711eec32",
   "metadata": {},
   "outputs": [
    {
     "name": "stdout",
     "output_type": "stream",
     "text": [
      "Description of data : \n",
      " .. _diabetes_dataset:\n",
      "\n",
      "Diabetes dataset\n",
      "----------------\n",
      "\n",
      "Ten baseline variables, age, sex, body mass index, average blood\n",
      "pressure, and six blood serum measurements were obtained for each of n =\n",
      "442 diabetes patients, as well as the response of interest, a\n",
      "quantitative measure of disease progression one year after baseline.\n",
      "\n",
      "**Data Set Characteristics:**\n",
      "\n",
      "  :Number of Instances: 442\n",
      "\n",
      "  :Number of Attributes: First 10 columns are numeric predictive values\n",
      "\n",
      "  :Target: Column 11 is a quantitative measure of disease progression one year after baseline\n",
      "\n",
      "  :Attribute Information:\n",
      "      - age     age in years\n",
      "      - sex\n",
      "      - bmi     body mass index\n",
      "      - bp      average blood pressure\n",
      "      - s1      tc, total serum cholesterol\n",
      "      - s2      ldl, low-density lipoproteins\n",
      "      - s3      hdl, high-density lipoproteins\n",
      "      - s4      tch, total cholesterol / HDL\n",
      "      - s5      ltg, possibly log of serum triglycerides level\n",
      "      - s6      glu, blood sugar level\n",
      "\n",
      "Note: Each of these 10 feature variables have been mean centered and scaled by the standard deviation times the square root of `n_samples` (i.e. the sum of squares of each column totals 1).\n",
      "\n",
      "Source URL:\n",
      "https://www4.stat.ncsu.edu/~boos/var.select/diabetes.html\n",
      "\n",
      "For more information see:\n",
      "Bradley Efron, Trevor Hastie, Iain Johnstone and Robert Tibshirani (2004) \"Least Angle Regression,\" Annals of Statistics (with discussion), 407-499.\n",
      "(https://web.stanford.edu/~hastie/Papers/LARS/LeastAngle_2002.pdf)\n",
      " \n",
      "\n",
      "\n",
      "feature names of data : \n",
      " ['age', 'sex', 'bmi', 'bp', 's1', 's2', 's3', 's4', 's5', 's6']\n",
      "\n",
      "\n",
      "data : \n",
      " [[ 0.03807591  0.05068012  0.06169621 ... -0.00259226  0.01990749\n",
      "  -0.01764613]\n",
      " [-0.00188202 -0.04464164 -0.05147406 ... -0.03949338 -0.06833155\n",
      "  -0.09220405]\n",
      " [ 0.08529891  0.05068012  0.04445121 ... -0.00259226  0.00286131\n",
      "  -0.02593034]\n",
      " ...\n",
      " [ 0.04170844  0.05068012 -0.01590626 ... -0.01107952 -0.04688253\n",
      "   0.01549073]\n",
      " [-0.04547248 -0.04464164  0.03906215 ...  0.02655962  0.04452873\n",
      "  -0.02593034]\n",
      " [-0.04547248 -0.04464164 -0.0730303  ... -0.03949338 -0.00422151\n",
      "   0.00306441]]\n",
      "\n",
      "\n"
     ]
    }
   ],
   "source": [
    "# 2. 데이터 정보 확인\n",
    "print(\"Description of data : \\n {} \\n\\n\".format(diabetes_dataset.DESCR))\n",
    "print(\"feature names of data : \\n {}\\n\\n\".format(diabetes_dataset.feature_names))\n",
    "print(\"data : \\n {}\\n\\n\".format(diabetes_dataset.data))\n"
   ]
  },
  {
   "cell_type": "code",
   "execution_count": 5,
   "id": "86806dce-de51-4839-92c5-3cc8f606e7c4",
   "metadata": {},
   "outputs": [
    {
     "name": "stdout",
     "output_type": "stream",
     "text": [
      "polynomial_data : \n",
      " [[ 1.00000000e+00  3.80759064e-02  5.06801187e-02 ...  3.96308006e-04\n",
      "  -3.51289993e-04  3.11385733e-04]\n",
      " [ 1.00000000e+00 -1.88201653e-03 -4.46416365e-02 ...  4.66920033e-03\n",
      "   6.30044536e-03  8.50158677e-03]\n",
      " [ 1.00000000e+00  8.52989063e-02  5.06801187e-02 ...  8.18709085e-06\n",
      "  -7.41947198e-05  6.72382480e-04]\n",
      " ...\n",
      " [ 1.00000000e+00  4.17084449e-02  5.06801187e-02 ...  2.19797201e-03\n",
      "  -7.26244686e-04  2.39962721e-04]\n",
      " [ 1.00000000e+00 -4.54724779e-02 -4.46416365e-02 ...  1.98280769e-03\n",
      "  -1.15464503e-03  6.72382480e-04]\n",
      " [ 1.00000000e+00 -4.54724779e-02 -4.46416365e-02 ...  1.78211799e-05\n",
      "  -1.29364471e-05  9.39060506e-06]] \n",
      "\n",
      "\n",
      "polynomial_feature_names : \n",
      " ['1' 'age' 'sex' 'bmi' 'bp' 's1' 's2' 's3' 's4' 's5' 's6' 'age^2'\n",
      " 'age sex' 'age bmi' 'age bp' 'age s1' 'age s2' 'age s3' 'age s4' 'age s5'\n",
      " 'age s6' 'sex^2' 'sex bmi' 'sex bp' 'sex s1' 'sex s2' 'sex s3' 'sex s4'\n",
      " 'sex s5' 'sex s6' 'bmi^2' 'bmi bp' 'bmi s1' 'bmi s2' 'bmi s3' 'bmi s4'\n",
      " 'bmi s5' 'bmi s6' 'bp^2' 'bp s1' 'bp s2' 'bp s3' 'bp s4' 'bp s5' 'bp s6'\n",
      " 's1^2' 's1 s2' 's1 s3' 's1 s4' 's1 s5' 's1 s6' 's2^2' 's2 s3' 's2 s4'\n",
      " 's2 s5' 's2 s6' 's3^2' 's3 s4' 's3 s5' 's3 s6' 's4^2' 's4 s5' 's4 s6'\n",
      " 's5^2' 's5 s6' 's6^2'] \n",
      "\n",
      "\n"
     ]
    }
   ],
   "source": [
    "# 3. 다항속성 생성\n",
    "# 2차 다항회귀 설정\n",
    "polynomial_transformer = PolynomialFeatures(2)\n",
    "\n",
    "# 2차 속성 생성\n",
    "polynomial_data = polynomial_transformer.fit_transform(diabetes_dataset.data)\n",
    "print(\"polynomial_data : \\n {} \\n\\n\".format(polynomial_data))\n",
    "\n",
    "# 2차 속성의 이름\n",
    "polynomial_feature_names = polynomial_transformer.get_feature_names_out(diabetes_dataset.feature_names)\n",
    "print(\"polynomial_feature_names : \\n {} \\n\\n\".format(polynomial_feature_names))"
   ]
  },
  {
   "cell_type": "code",
   "execution_count": 6,
   "id": "d75fd992-96c7-4e0c-a34d-e4046ed1061c",
   "metadata": {},
   "outputs": [],
   "source": [
    "# 4. DataFrame으로 변환\n",
    "# Data\n",
    "X = pd.DataFrame(polynomial_data, columns=polynomial_feature_names)\n",
    "\n",
    "# Target\n",
    "y = pd.DataFrame(diabetes_dataset.target, columns=['diabetes'])"
   ]
  },
  {
   "cell_type": "code",
   "execution_count": 7,
   "id": "b8ceaaf7-b807-431d-a992-32f5719b9453",
   "metadata": {},
   "outputs": [],
   "source": [
    "# 5. 머신러닝 알고리즘 사용을 위한 train, test set 구성\n",
    "X_train, X_test, y_train, y_test = train_test_split(X, y, test_size=0.2, random_state=5)"
   ]
  },
  {
   "cell_type": "code",
   "execution_count": 8,
   "id": "6cb9e14a-34d8-48bc-a91a-62342d06d2d0",
   "metadata": {},
   "outputs": [
    {
     "data": {
      "text/html": [
       "<style>#sk-container-id-1 {color: black;background-color: white;}#sk-container-id-1 pre{padding: 0;}#sk-container-id-1 div.sk-toggleable {background-color: white;}#sk-container-id-1 label.sk-toggleable__label {cursor: pointer;display: block;width: 100%;margin-bottom: 0;padding: 0.3em;box-sizing: border-box;text-align: center;}#sk-container-id-1 label.sk-toggleable__label-arrow:before {content: \"▸\";float: left;margin-right: 0.25em;color: #696969;}#sk-container-id-1 label.sk-toggleable__label-arrow:hover:before {color: black;}#sk-container-id-1 div.sk-estimator:hover label.sk-toggleable__label-arrow:before {color: black;}#sk-container-id-1 div.sk-toggleable__content {max-height: 0;max-width: 0;overflow: hidden;text-align: left;background-color: #f0f8ff;}#sk-container-id-1 div.sk-toggleable__content pre {margin: 0.2em;color: black;border-radius: 0.25em;background-color: #f0f8ff;}#sk-container-id-1 input.sk-toggleable__control:checked~div.sk-toggleable__content {max-height: 200px;max-width: 100%;overflow: auto;}#sk-container-id-1 input.sk-toggleable__control:checked~label.sk-toggleable__label-arrow:before {content: \"▾\";}#sk-container-id-1 div.sk-estimator input.sk-toggleable__control:checked~label.sk-toggleable__label {background-color: #d4ebff;}#sk-container-id-1 div.sk-label input.sk-toggleable__control:checked~label.sk-toggleable__label {background-color: #d4ebff;}#sk-container-id-1 input.sk-hidden--visually {border: 0;clip: rect(1px 1px 1px 1px);clip: rect(1px, 1px, 1px, 1px);height: 1px;margin: -1px;overflow: hidden;padding: 0;position: absolute;width: 1px;}#sk-container-id-1 div.sk-estimator {font-family: monospace;background-color: #f0f8ff;border: 1px dotted black;border-radius: 0.25em;box-sizing: border-box;margin-bottom: 0.5em;}#sk-container-id-1 div.sk-estimator:hover {background-color: #d4ebff;}#sk-container-id-1 div.sk-parallel-item::after {content: \"\";width: 100%;border-bottom: 1px solid gray;flex-grow: 1;}#sk-container-id-1 div.sk-label:hover label.sk-toggleable__label {background-color: #d4ebff;}#sk-container-id-1 div.sk-serial::before {content: \"\";position: absolute;border-left: 1px solid gray;box-sizing: border-box;top: 0;bottom: 0;left: 50%;z-index: 0;}#sk-container-id-1 div.sk-serial {display: flex;flex-direction: column;align-items: center;background-color: white;padding-right: 0.2em;padding-left: 0.2em;position: relative;}#sk-container-id-1 div.sk-item {position: relative;z-index: 1;}#sk-container-id-1 div.sk-parallel {display: flex;align-items: stretch;justify-content: center;background-color: white;position: relative;}#sk-container-id-1 div.sk-item::before, #sk-container-id-1 div.sk-parallel-item::before {content: \"\";position: absolute;border-left: 1px solid gray;box-sizing: border-box;top: 0;bottom: 0;left: 50%;z-index: -1;}#sk-container-id-1 div.sk-parallel-item {display: flex;flex-direction: column;z-index: 1;position: relative;background-color: white;}#sk-container-id-1 div.sk-parallel-item:first-child::after {align-self: flex-end;width: 50%;}#sk-container-id-1 div.sk-parallel-item:last-child::after {align-self: flex-start;width: 50%;}#sk-container-id-1 div.sk-parallel-item:only-child::after {width: 0;}#sk-container-id-1 div.sk-dashed-wrapped {border: 1px dashed gray;margin: 0 0.4em 0.5em 0.4em;box-sizing: border-box;padding-bottom: 0.4em;background-color: white;}#sk-container-id-1 div.sk-label label {font-family: monospace;font-weight: bold;display: inline-block;line-height: 1.2em;}#sk-container-id-1 div.sk-label-container {text-align: center;}#sk-container-id-1 div.sk-container {/* jupyter's `normalize.less` sets `[hidden] { display: none; }` but bootstrap.min.css set `[hidden] { display: none !important; }` so we also need the `!important` here to be able to override the default hidden behavior on the sphinx rendered scikit-learn.org. See: https://github.com/scikit-learn/scikit-learn/issues/21755 */display: inline-block !important;position: relative;}#sk-container-id-1 div.sk-text-repr-fallback {display: none;}</style><div id=\"sk-container-id-1\" class=\"sk-top-container\"><div class=\"sk-text-repr-fallback\"><pre>LinearRegression()</pre><b>In a Jupyter environment, please rerun this cell to show the HTML representation or trust the notebook. <br />On GitHub, the HTML representation is unable to render, please try loading this page with nbviewer.org.</b></div><div class=\"sk-container\" hidden><div class=\"sk-item\"><div class=\"sk-estimator sk-toggleable\"><input class=\"sk-toggleable__control sk-hidden--visually\" id=\"sk-estimator-id-1\" type=\"checkbox\" checked><label for=\"sk-estimator-id-1\" class=\"sk-toggleable__label sk-toggleable__label-arrow\">LinearRegression</label><div class=\"sk-toggleable__content\"><pre>LinearRegression()</pre></div></div></div></div></div>"
      ],
      "text/plain": [
       "LinearRegression()"
      ]
     },
     "execution_count": 8,
     "metadata": {},
     "output_type": "execute_result"
    }
   ],
   "source": [
    "# 6. 머신러닝을 위한 모델 선정 및 학습\n",
    "# LinearRegression 사용\n",
    "model = LinearRegression()\n",
    "model.fit(X_train, y_train)"
   ]
  },
  {
   "cell_type": "code",
   "execution_count": 9,
   "id": "a0d1f650-30eb-4c9b-9e20-d550171f2ea2",
   "metadata": {},
   "outputs": [
    {
     "name": "stdout",
     "output_type": "stream",
     "text": [
      "theta 0 : \n",
      " [-119.71405319]\n",
      "theta 1 ~ n  : \n",
      " [[-1.52588410e-07  9.10306855e+01 -3.06233456e+02  4.67700330e+02\n",
      "   3.61591007e+02 -5.94543410e+04  5.22843802e+04  2.18398508e+04\n",
      "  -1.40239903e+02  2.01536451e+04  1.92020823e+01  1.23445725e+03\n",
      "   2.21027145e+03 -8.69530526e+02  1.40467810e+03  1.28846366e+03\n",
      "  -7.01495718e+03  5.24801018e+03  7.79811197e+03  8.93143615e+02\n",
      "   1.23427225e+03 -1.84918528e+00  8.34183469e+02  1.77882929e+03\n",
      "   4.23987239e+03 -3.18967964e+03 -2.79394336e+03 -5.62500702e+03\n",
      "  -3.37373891e+01  1.84539784e+03  2.39341257e+02  4.49071207e+03\n",
      "  -5.58359864e+03  4.88929685e+03  8.65305784e+02 -6.76633805e+02\n",
      "   1.50419307e+03  1.45750563e+03 -6.13552032e+02  1.69774076e+04\n",
      "  -1.23305988e+04 -5.07515091e+03 -5.60684946e+02 -6.35004360e+03\n",
      "  -3.59802309e+03  2.16828276e+04 -2.21304478e+04 -1.09865431e+04\n",
      "  -1.80396896e+04  1.69625997e+05 -3.86597695e+03  5.95328464e+03\n",
      "  -1.41636969e+03  4.12871917e+03 -1.52180536e+05  2.59976232e+03\n",
      "   3.92491797e+03  1.63587654e+04 -6.74261229e+04  5.68761698e+03\n",
      "   1.27661043e+04 -7.48554856e+02  2.66178296e+03  4.48965984e+04\n",
      "   2.78614771e+03  1.51102127e+03]]\n"
     ]
    }
   ],
   "source": [
    "# 최적화된 theta값 확인\n",
    "print(\"theta 0 : \\n\", model.intercept_)\n",
    "print(\"theta 1 ~ n  : \\n\",model.coef_)"
   ]
  },
  {
   "cell_type": "code",
   "execution_count": 10,
   "id": "bbe34820-3919-43b9-9c65-88e14fda9d29",
   "metadata": {},
   "outputs": [
    {
     "data": {
      "text/plain": [
       "57.88957704462028"
      ]
     },
     "execution_count": 10,
     "metadata": {},
     "output_type": "execute_result"
    }
   ],
   "source": [
    "# 7. 최적화된 모델을 바탕으로 Test data 예측\n",
    "y_test_predict = model.predict(X_test)\n",
    "\n",
    "# Test datd와 예측값의 오차를 RMSE 로 나타냄\n",
    "RMSE = mean_squared_error(y_test, y_test_predict) ** 0.5\n",
    "\n",
    "RMSE"
   ]
  }
 ],
 "metadata": {
  "kernelspec": {
   "display_name": "Python (Jonghyeok_env)",
   "language": "python",
   "name": "jonghyeok_env"
  },
  "language_info": {
   "codemirror_mode": {
    "name": "ipython",
    "version": 3
   },
   "file_extension": ".py",
   "mimetype": "text/x-python",
   "name": "python",
   "nbconvert_exporter": "python",
   "pygments_lexer": "ipython3",
   "version": "3.10.8"
  }
 },
 "nbformat": 4,
 "nbformat_minor": 5
}
