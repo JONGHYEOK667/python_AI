{
 "cells": [
  {
   "cell_type": "code",
   "execution_count": 1,
   "id": "2be46ca7-52b5-4806-88e2-e44d26746282",
   "metadata": {},
   "outputs": [],
   "source": [
    "# 0. 필요한 모듈 임포트\n",
    "# %config Completer.use_jedi = False\n",
    "\n",
    "import numpy as np\n",
    "import pandas as pd\n",
    "import matplotlib.pyplot as plt"
   ]
  },
  {
   "cell_type": "code",
   "execution_count": 2,
   "id": "732a80e1-7559-41cd-b6f2-c47ca4dfde61",
   "metadata": {},
   "outputs": [],
   "source": [
    "# numpy 임의성\n",
    "np.random.seed(45)"
   ]
  },
  {
   "cell_type": "code",
   "execution_count": 3,
   "id": "30fd2676-2488-4b7b-89d0-d1262d0bbe2d",
   "metadata": {},
   "outputs": [
    {
     "data": {
      "text/plain": [
       "(300, 794)"
      ]
     },
     "execution_count": 3,
     "metadata": {},
     "output_type": "execute_result"
    }
   ],
   "source": [
    "# 1. 데이터셋 가지고 오기\n",
    "dataset = pd.read_csv('./DataSet/MNIST_preprocessed.csv', sep=',', header=None).values\n",
    "dataset.shape"
   ]
  },
  {
   "cell_type": "code",
   "execution_count": 4,
   "id": "a10e2175-e743-48ce-8a14-fe7bcb7eaaa3",
   "metadata": {},
   "outputs": [
    {
     "data": {
      "text/plain": [
       "array([[0., 0., 0., ..., 0., 0., 0.],\n",
       "       [0., 0., 0., ..., 0., 0., 0.],\n",
       "       [0., 0., 0., ..., 0., 0., 0.],\n",
       "       ...,\n",
       "       [0., 0., 0., ..., 0., 0., 0.],\n",
       "       [0., 0., 0., ..., 0., 0., 0.],\n",
       "       [0., 0., 0., ..., 0., 0., 0.]])"
      ]
     },
     "execution_count": 4,
     "metadata": {},
     "output_type": "execute_result"
    }
   ],
   "source": [
    "# 입력, 목표 변수 데이터 셋 나누기\n",
    "# 0 ~ 783 : MNIST dataset\n",
    "X = dataset[:, 0:784]\n",
    "X"
   ]
  },
  {
   "cell_type": "code",
   "execution_count": 5,
   "id": "f5ef004c-3473-4c8a-b252-95d2fa8585d6",
   "metadata": {},
   "outputs": [
    {
     "data": {
      "text/plain": [
       "array([[0., 0., 0., ..., 0., 0., 0.],\n",
       "       [1., 0., 0., ..., 0., 0., 0.],\n",
       "       [0., 0., 0., ..., 0., 0., 0.],\n",
       "       ...,\n",
       "       [0., 0., 0., ..., 0., 0., 0.],\n",
       "       [0., 0., 0., ..., 0., 0., 0.],\n",
       "       [0., 0., 0., ..., 0., 0., 0.]])"
      ]
     },
     "execution_count": 5,
     "metadata": {},
     "output_type": "execute_result"
    }
   ],
   "source": [
    "# 784 ~ 793 : MNIST 데이터의 목표변수를 One hot encoding한 결과\n",
    "Y = dataset[:, 784:]\n",
    "Y"
   ]
  },
  {
   "cell_type": "code",
   "execution_count": 6,
   "id": "f6d6b15a-6e1a-422e-82bf-4a306eb256d2",
   "metadata": {},
   "outputs": [
    {
     "data": {
      "text/plain": [
       "(784,)"
      ]
     },
     "execution_count": 6,
     "metadata": {},
     "output_type": "execute_result"
    }
   ],
   "source": [
    "# training, testing 데이터 셋 나누기\n",
    "X_train, X_test = X[0:250,], X[250:,]\n",
    "Y_train, Y_test = Y[0:250,], Y[250:,]\n",
    "X_train[0].shape"
   ]
  },
  {
   "cell_type": "code",
   "execution_count": 7,
   "id": "70386d65-2036-4f25-9fc2-f01234fe3160",
   "metadata": {},
   "outputs": [],
   "source": [
    "# 시그모이드 함수 정의\n",
    "def sigmoid(x):\n",
    "    \"\"\"시그모이드 함수\"\"\"\n",
    "    return 1/(1 + np.exp(-x))\n",
    "\n",
    "def d_sigmoid(x):\n",
    "    \"\"\"시그모이드 미분 함수\"\"\"\n",
    "    return (np.exp(-x))/((np.exp(-x)+1)**2)"
   ]
  },
  {
   "cell_type": "code",
   "execution_count": 8,
   "id": "f7efaf9f-b6d1-460b-97e4-a5ffa271039b",
   "metadata": {},
   "outputs": [],
   "source": [
    "# 신경망의 가중치와 편향을 초기화해주는 함수\n",
    "def initialize_parameters(neurons_per_layer):\n",
    "    \"\"\"신경망의 가중치와 편향을 초기화해주는 함수\"\"\"\n",
    "    L = len(neurons_per_layer) - 1 # 층 개수 저장\n",
    "    parameters = {}\n",
    "    \n",
    "    # 1층부터 L층까지 돌면서 가중치와 편향 초기화\n",
    "    for l in range(1,L+1):\n",
    "        \n",
    "        # l층 가중치 행렬의 차원은 (l층 뉴런개수)x(l-1층 뉴런의 개수)\n",
    "        # l층 편향벡터의 길이는 l\n",
    "        parameters['W' + str(l)] = np.random.randn(neurons_per_layer[l],neurons_per_layer[l-1])/np.sqrt(neurons_per_layer[l])\n",
    "        parameters['b' + str(l)] = np.random.randn(neurons_per_layer[l])/np.sqrt(neurons_per_layer[l])\n",
    "        \n",
    "    return parameters\n",
    "\n",
    "# # 테스트코드\n",
    "# neurons_per_layer = [10, 5, 5, 3]\n",
    "# parameters = initialize_parameters(neurons_per_layer)\n",
    "# print(\"parameter : \\n {}\\n\\n\".format(parameters))\n",
    "# print(\"lenth of parameter : {}\".format(len(parameters)))"
   ]
  },
  {
   "cell_type": "code",
   "execution_count": 9,
   "id": "3d260933-60bf-48b4-999f-7dd20946793c",
   "metadata": {},
   "outputs": [],
   "source": [
    "def initialize_zero_gradients(neurons_per_layer):\n",
    "    \"\"\"신경망의 편미분 값을 모두 0으로 초기화해주는 함수\"\"\"\n",
    "    L = len(neurons_per_layer) - 1  # 입력층을 포함함 층 개수 저장\n",
    "    gradients = {}\n",
    "\n",
    "    # 1층 부터 L 층까지 돌면서 가중치와 편향 초기화\n",
    "    for l in range(1, L + 1):\n",
    "        gradients[\"dW\" + str(l)] = np.zeros([neurons_per_layer[l], neurons_per_layer[l - 1]])\n",
    "        gradients[\"db\" + str(l)] = np.zeros([neurons_per_layer[l]])\n",
    "\n",
    "    return gradients"
   ]
  },
  {
   "cell_type": "code",
   "execution_count": 10,
   "id": "fb036891-be66-4039-b0fa-f38e934c1b47",
   "metadata": {},
   "outputs": [
    {
     "data": {
      "text/plain": [
       "array([0.3437484 , 0.98087844, 0.56103509, 0.08079231, 0.44007264,\n",
       "       0.88045662, 0.07428953, 0.14584982, 0.87401404, 0.17412678])"
      ]
     },
     "execution_count": 10,
     "metadata": {},
     "output_type": "execute_result"
    }
   ],
   "source": [
    "# 순전파 Forward propergate 함수 정의\n",
    "def feed_forward(x, parameters):\n",
    "    \"\"\"순전파 함수\"\"\"\n",
    "    cache = {'a0': x}  # 0 번째 층 출력 저장\n",
    "    L = len(parameters) // 2  # 층 수 저장 --> 파라미터에 whigt, bias있으니까 2로 나눔\n",
    "    \n",
    "    for l in range(1, L+1):\n",
    "        # 전 층 뉴런의 출력, 현재 층 뉴런들의 가중치, 편향 데이터를 가지고 온다 (여기에 코드를 작성하세요)\n",
    "        a_prev = cache['a' + str(l-1)]\n",
    "        W = parameters['W'+ str(l)]\n",
    "        b = parameters['b'+ str(l)]\n",
    "        \n",
    "        # 가지고 온 데이터로 z와 a를 계산한다. (여기에 코드를 작성하세요)\n",
    "        z = W @ a_prev + b\n",
    "        a = sigmoid(z)\n",
    "\n",
    "        # 결과 값을 캐시에 저장한다.\n",
    "        cache['z' + str(l)] = z\n",
    "        cache['a' + str(l)] = a\n",
    "                \n",
    "    return a, cache\n",
    "\n",
    "# 테스트 코드\n",
    "neurons_per_layer = [784, 128, 64, 10]\n",
    "parameters = initialize_parameters(neurons_per_layer)\n",
    "feed_forward(X_train[0], parameters)[0]"
   ]
  },
  {
   "cell_type": "code",
   "execution_count": 11,
   "id": "5b172556-2208-45b0-9973-646a9fadb753",
   "metadata": {},
   "outputs": [],
   "source": [
    "def compute_accuracy(x_val, y_val, parameters):\n",
    "    \"\"\"테스트 데이터에서 예측값들의 성능을 계산하는 함수\"\"\"\n",
    "    predictions = []\n",
    "\n",
    "    for x, y in zip(x_val, y_val):\n",
    "        output, _ = feed_forward(x, parameters)\n",
    "        pred = np.argmax(output)\n",
    "        predictions.append(pred == np.argmax(y))\n",
    "\n",
    "    return np.mean(predictions)"
   ]
  },
  {
   "cell_type": "code",
   "execution_count": 12,
   "id": "d847e1e0-b0b0-4854-8780-d2b5268b814c",
   "metadata": {},
   "outputs": [],
   "source": [
    "def compute_loss(x_val, y_val, parameters):\n",
    "    \"\"\"학습 데이터에서 현재 모델의 손실을 계산하는 함수\"\"\"\n",
    "    loss = 0\n",
    "    \n",
    "    for x, y in zip(x_val, y_val):\n",
    "        output, _ = feed_forward(x, parameters)\n",
    "        loss += np.mean((output - y)**2) / 2\n",
    "        \n",
    "    return loss / len(x_val)"
   ]
  },
  {
   "cell_type": "code",
   "execution_count": 13,
   "id": "cca53e40-9e90-44db-bd40-d891ef00ddce",
   "metadata": {},
   "outputs": [],
   "source": [
    "def back_prop(prediction, y, cache, parameters):\n",
    "    \"\"\"역전파 함수\"\"\"\n",
    "    gradients = {}\n",
    "    L = len(cache) // 2\n",
    "    da = (prediction - y) / y.shape[0]\n",
    "    \n",
    "    for layer in range(L, 0, -1):\n",
    "        # 역전파 행렬 연산을 사용해서 각 요소에 대한 편미분 계산\n",
    "        # 여기에 코드를 작성하세요\n",
    "        a_prev = cache['a' + str(layer-1)]\n",
    "        z = cache['z' + str(layer)]\n",
    "        W = parameters['W' + str(layer)]\n",
    "        \n",
    "        # 가중치와 편향 + 전 층 뉴런 출력에 대한 편미분 계산\n",
    "        db = da * d_sigmoid(z)\n",
    "        dW = np.outer(db, a_prev)\n",
    "        da = W.T @ db\n",
    "        \n",
    "        \n",
    "        # 계산한 편미분 값들을 저장\n",
    "        gradients['dW' + str(layer)] = dW\n",
    "        gradients['db' + str(layer)] = db\n",
    "    \n",
    "    # 계산한 편미분 값들 리턴\n",
    "    return gradients"
   ]
  },
  {
   "cell_type": "code",
   "execution_count": 14,
   "id": "1b3ed351-2638-4127-829d-b699089b2a84",
   "metadata": {},
   "outputs": [],
   "source": [
    "def update(parameters, gradients, alpha):\n",
    "    \"\"\"계산한 경사로 가중치와 편향을 업데이트 하는 함수\"\"\"\n",
    "    L = len(parameters) // 2\n",
    "    \n",
    "    for layer in range(1, L+1):\n",
    "        parameters['W'+str(layer)] -= alpha * gradients['dW'+str(layer)]\n",
    "        parameters['b'+str(layer)] -= alpha * gradients['db'+str(layer)]\n",
    "    \n",
    "    return parameters"
   ]
  },
  {
   "cell_type": "code",
   "execution_count": 15,
   "id": "e5d36de2-876f-46d4-a7e3-646ef3d27163",
   "metadata": {},
   "outputs": [],
   "source": [
    "def train_nn(X_train, Y_train, X_test, Y_test, neurons_per_layer, epoch, alpha):\n",
    "    \"\"\"신경망을 학습시키는 함수\"\"\"\n",
    "    parameters = initialize_parameters(neurons_per_layer)\n",
    "    loss_list = []\n",
    "    m = X_train.shape[0]\n",
    "    \n",
    "    # epoch 번 경사 하강을 한다\n",
    "    for i in range(epoch):\n",
    "        gradients_mean = initialize_zero_gradients(neurons_per_layer)\n",
    "        \n",
    "        # 학습 데이터마다 경사를 계산하고 이를 학습 데이터 개수 m으로 나누어 더함\n",
    "        for x, y in zip(X_train, Y_train):\n",
    "            prediction, cache = feed_forward(x, parameters)\n",
    "            gradients = back_prop(prediction, y, cache, parameters)\n",
    "            for k, v in gradients.items():\n",
    "                gradients_mean[k] += v / m\n",
    "        \n",
    "        # 편미분 평균값으로 가중치와 편향 업데이트\n",
    "        parameters = update(parameters, gradients_mean, alpha)\n",
    "        loss_list.append(compute_loss(X_train, Y_train, parameters))\n",
    "        print('{}번째 경사 하강, 테스트 셋에서 성능: {}'.format(i+1, round(compute_accuracy(X_test, Y_test, parameters), 2)))     \n",
    "            \n",
    "    return loss_list, parameters"
   ]
  },
  {
   "cell_type": "code",
   "execution_count": 16,
   "id": "57330e74-6a9f-47a3-8ef8-e243a306b87c",
   "metadata": {},
   "outputs": [
    {
     "name": "stdout",
     "output_type": "stream",
     "text": [
      "1번째 경사 하강, 테스트 셋에서 성능: 0.1\n",
      "2번째 경사 하강, 테스트 셋에서 성능: 0.12\n",
      "3번째 경사 하강, 테스트 셋에서 성능: 0.1\n",
      "4번째 경사 하강, 테스트 셋에서 성능: 0.1\n",
      "5번째 경사 하강, 테스트 셋에서 성능: 0.1\n",
      "6번째 경사 하강, 테스트 셋에서 성능: 0.1\n",
      "7번째 경사 하강, 테스트 셋에서 성능: 0.1\n",
      "8번째 경사 하강, 테스트 셋에서 성능: 0.1\n",
      "9번째 경사 하강, 테스트 셋에서 성능: 0.1\n",
      "10번째 경사 하강, 테스트 셋에서 성능: 0.1\n",
      "11번째 경사 하강, 테스트 셋에서 성능: 0.1\n",
      "12번째 경사 하강, 테스트 셋에서 성능: 0.1\n",
      "13번째 경사 하강, 테스트 셋에서 성능: 0.1\n",
      "14번째 경사 하강, 테스트 셋에서 성능: 0.12\n",
      "15번째 경사 하강, 테스트 셋에서 성능: 0.12\n",
      "16번째 경사 하강, 테스트 셋에서 성능: 0.12\n",
      "17번째 경사 하강, 테스트 셋에서 성능: 0.14\n",
      "18번째 경사 하강, 테스트 셋에서 성능: 0.16\n",
      "19번째 경사 하강, 테스트 셋에서 성능: 0.16\n",
      "20번째 경사 하강, 테스트 셋에서 성능: 0.16\n",
      "21번째 경사 하강, 테스트 셋에서 성능: 0.16\n",
      "22번째 경사 하강, 테스트 셋에서 성능: 0.22\n",
      "23번째 경사 하강, 테스트 셋에서 성능: 0.22\n",
      "24번째 경사 하강, 테스트 셋에서 성능: 0.22\n",
      "25번째 경사 하강, 테스트 셋에서 성능: 0.22\n"
     ]
    },
    {
     "data": {
      "image/png": "[encoded data removed]",
      "text/plain": [
       "<Figure size 640x480 with 1 Axes>"
      ]
     },
     "metadata": {},
     "output_type": "display_data"
    }
   ],
   "source": [
    "#디버깅을 위한 시각화 코드(쥬피터를 사용하시면 실행 코드 가장 아래줄에 넣어주세요!)\n",
    "\n",
    "\n",
    "\n",
    "# 테스트 코드\n",
    "neurons_per_layer = [784, 128, 64, 10]\n",
    "loss_list, parameters = train_nn(X_train, Y_train, X_test, Y_test, neurons_per_layer, 25, 30)\n",
    "\n",
    "plt.plot(loss_list)\n",
    "plt.show()"
   ]
  }
 ],
 "metadata": {
  "kernelspec": {
   "display_name": "Python (Jonghyeok_env)",
   "language": "python",
   "name": "jonghyeok_env"
  },
  "language_info": {
   "codemirror_mode": {
    "name": "ipython",
    "version": 3
   },
   "file_extension": ".py",
   "mimetype": "text/x-python",
   "name": "python",
   "nbconvert_exporter": "python",
   "pygments_lexer": "ipython3",
   "version": "3.7.12"
  }
 },
 "nbformat": 4,
 "nbformat_minor": 5
}
