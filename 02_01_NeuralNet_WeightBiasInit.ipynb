{
 "cells": [
  {
   "cell_type": "code",
   "execution_count": 1,
   "id": "2be46ca7-52b5-4806-88e2-e44d26746282",
   "metadata": {},
   "outputs": [],
   "source": [
    "# 0. 필요한 모듈 임포트\n",
    "# %config Completer.use_jedi = False\n",
    "\n",
    "import numpy as np"
   ]
  },
  {
   "cell_type": "code",
   "execution_count": 2,
   "id": "732a80e1-7559-41cd-b6f2-c47ca4dfde61",
   "metadata": {},
   "outputs": [],
   "source": [
    "# numpy 임의성\n",
    "np.random.seed(42)"
   ]
  },
  {
   "cell_type": "code",
   "execution_count": 4,
   "id": "f7efaf9f-b6d1-460b-97e4-a5ffa271039b",
   "metadata": {},
   "outputs": [
    {
     "data": {
      "text/plain": [
       "{'W1': array([[-0.3587893 , -0.07212916,  0.18069704,  0.84352798,  0.07807357,\n",
       "          0.11518004, -0.03329323, -0.85810057, -0.01185737,  0.02693577],\n",
       "        [ 1.10159536, -0.08602644,  0.13485607, -0.01552358, -0.52264871,\n",
       "          0.5110859 ,  0.33627468,  0.35376024, -0.40669043,  0.62734869],\n",
       "        [-0.62692685,  0.26245047,  0.97960154, -0.44298131, -0.25325604,\n",
       "          0.04456545, -0.22516116, -0.69347777,  0.03066229, -0.47507666],\n",
       "        [ 0.21179697, -0.41117902,  0.69315174, -0.35028152, -0.14403029,\n",
       "          0.36381596, -0.55045926,  0.10172318,  0.58457201, -0.71888836],\n",
       "        [ 0.08257077,  0.11622312,  0.34964182, -0.55318117, -0.59052615,\n",
       "          0.23341936,  0.13281558,  0.11202381,  0.15493635, -0.3041163 ]]),\n",
       " 'b1': array([ 0.10386701,  0.13106599, -0.31946767,  0.83439973,  0.21190452]),\n",
       " 'W2': array([[-0.53276712,  0.2936197 , -0.43589089,  0.35199494,  0.51813969],\n",
       "        [-0.36702029,  0.4308349 ,  0.18460124,  0.36763648,  0.84827161],\n",
       "        [-0.1097409 , -0.33708106, -0.39780295, -0.36484145, -0.03448093],\n",
       "        [ 0.1525678 ,  0.12373989,  0.36992759,  0.00581462,  0.6500402 ],\n",
       "        [-0.11835813,  1.21649663,  0.27980694, -0.38333251, -0.47891768]]),\n",
       " 'b2': array([ 0.21576822, -0.0999356 ,  0.31931073,  0.2116383 , -0.03257008]),\n",
       " 'W3': array([[-0.48889658, -0.87459745, -0.25779553,  0.49444207,  0.12360708],\n",
       "        [-0.71922762,  0.09998605,  0.22246309, -0.51029533,  0.08875323],\n",
       "        [ 0.03360682, -0.65989421,  0.20656863,  0.3237691 ,  0.62529993]]),\n",
       " 'b3': array([ 0.6084129 , -0.79539778, -0.54145354])}"
      ]
     },
     "execution_count": 4,
     "metadata": {},
     "output_type": "execute_result"
    }
   ],
   "source": [
    "# 신경망의 가중치와 편향을 초기화해주는 함수\n",
    "def initialize_parameters(neurons_per_layer):\n",
    "    L = len(neurons_per_layer) - 1 # 층 개수 저장\n",
    "    parameters = {}\n",
    "    \n",
    "    # 1층부터 L층까지 돌면서 가중치와 편향 초기화\n",
    "    for l in range(1,L+1):\n",
    "        \n",
    "        # l층 가중치 행렬의 차원은 (l층 뉴런개수)x(l-1층 뉴런의 개수)\n",
    "        # l층 편향벡터의 길이는 l\n",
    "        parameters['W' + str(l)] = np.random.randn(neurons_per_layer[l],neurons_per_layer[l-1])/np.sqrt(neurons_per_layer[l])\n",
    "        parameters['b' + str(l)] = np.random.randn(neurons_per_layer[l])/np.sqrt(neurons_per_layer[l])\n",
    "        \n",
    "    return parameters\n",
    "\n",
    "# 테스트코드\n",
    "neurons_per_layer = [10, 5, 5, 3]\n",
    "initialize_parameters(neurons_per_layer)"
   ]
  },
  {
   "cell_type": "code",
   "execution_count": null,
   "id": "cca53e40-9e90-44db-bd40-d891ef00ddce",
   "metadata": {},
   "outputs": [],
   "source": []
  }
 ],
 "metadata": {
  "kernelspec": {
   "display_name": "Python (Jonghyeok_env)",
   "language": "python",
   "name": "jonghyeok_env"
  },
  "language_info": {
   "codemirror_mode": {
    "name": "ipython",
    "version": 3
   },
   "file_extension": ".py",
   "mimetype": "text/x-python",
   "name": "python",
   "nbconvert_exporter": "python",
   "pygments_lexer": "ipython3",
   "version": "3.7.12"
  }
 },
 "nbformat": 4,
 "nbformat_minor": 5
}
