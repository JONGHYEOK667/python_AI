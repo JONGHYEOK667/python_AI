{
 "cells": [
  {
   "cell_type": "code",
   "execution_count": 1,
   "id": "2be46ca7-52b5-4806-88e2-e44d26746282",
   "metadata": {},
   "outputs": [],
   "source": [
    "# 0. 필요한 모듈 임포트\n",
    "# %config Completer.use_jedi = False\n",
    "\n",
    "import numpy as np\n",
    "import pandas as pd"
   ]
  },
  {
   "cell_type": "code",
   "execution_count": 2,
   "id": "732a80e1-7559-41cd-b6f2-c47ca4dfde61",
   "metadata": {},
   "outputs": [],
   "source": [
    "# numpy 임의성\n",
    "np.random.seed(42)"
   ]
  },
  {
   "cell_type": "code",
   "execution_count": 3,
   "id": "30fd2676-2488-4b7b-89d0-d1262d0bbe2d",
   "metadata": {},
   "outputs": [
    {
     "data": {
      "text/plain": [
       "(300, 794)"
      ]
     },
     "execution_count": 3,
     "metadata": {},
     "output_type": "execute_result"
    }
   ],
   "source": [
    "# 1. 데이터셋 가지고 오기\n",
    "dataset = pd.read_csv('./DataSet/MNIST_preprocessed.csv', sep=',', header=None).values\n",
    "dataset.shape"
   ]
  },
  {
   "cell_type": "code",
   "execution_count": 4,
   "id": "a10e2175-e743-48ce-8a14-fe7bcb7eaaa3",
   "metadata": {},
   "outputs": [
    {
     "data": {
      "text/plain": [
       "array([[0., 0., 0., ..., 0., 0., 0.],\n",
       "       [0., 0., 0., ..., 0., 0., 0.],\n",
       "       [0., 0., 0., ..., 0., 0., 0.],\n",
       "       ...,\n",
       "       [0., 0., 0., ..., 0., 0., 0.],\n",
       "       [0., 0., 0., ..., 0., 0., 0.],\n",
       "       [0., 0., 0., ..., 0., 0., 0.]])"
      ]
     },
     "execution_count": 4,
     "metadata": {},
     "output_type": "execute_result"
    }
   ],
   "source": [
    "# 입력, 목표 변수 데이터 셋 나누기\n",
    "# 0 ~ 783 : MNIST dataset\n",
    "X = dataset[:, 0:784]\n",
    "X"
   ]
  },
  {
   "cell_type": "code",
   "execution_count": 5,
   "id": "f5ef004c-3473-4c8a-b252-95d2fa8585d6",
   "metadata": {},
   "outputs": [
    {
     "data": {
      "text/plain": [
       "array([[0., 0., 0., ..., 0., 0., 0.],\n",
       "       [1., 0., 0., ..., 0., 0., 0.],\n",
       "       [0., 0., 0., ..., 0., 0., 0.],\n",
       "       ...,\n",
       "       [0., 0., 0., ..., 0., 0., 0.],\n",
       "       [0., 0., 0., ..., 0., 0., 0.],\n",
       "       [0., 0., 0., ..., 0., 0., 0.]])"
      ]
     },
     "execution_count": 5,
     "metadata": {},
     "output_type": "execute_result"
    }
   ],
   "source": [
    "# 784 ~ 793 : MNIST 데이터의 목표변수를 One hot encoding한 결과\n",
    "Y = dataset[:, 784:]\n",
    "Y"
   ]
  },
  {
   "cell_type": "code",
   "execution_count": 6,
   "id": "f6d6b15a-6e1a-422e-82bf-4a306eb256d2",
   "metadata": {},
   "outputs": [
    {
     "data": {
      "text/plain": [
       "(784,)"
      ]
     },
     "execution_count": 6,
     "metadata": {},
     "output_type": "execute_result"
    }
   ],
   "source": [
    "# training, testing 데이터 셋 나누기\n",
    "X_train, X_test = X[0:250,], X[250:,]\n",
    "Y_train, Y_test = Y[0:250,], Y[250:,]\n",
    "X_train[0].shape"
   ]
  },
  {
   "cell_type": "code",
   "execution_count": 7,
   "id": "70386d65-2036-4f25-9fc2-f01234fe3160",
   "metadata": {},
   "outputs": [],
   "source": [
    "# 시그모이드 함수 정의\n",
    "def sigmoid(x):\n",
    "    \"\"\"시그모이드 함수\"\"\"\n",
    "    return 1/(1 + np.exp(-x))"
   ]
  },
  {
   "cell_type": "code",
   "execution_count": 8,
   "id": "f7efaf9f-b6d1-460b-97e4-a5ffa271039b",
   "metadata": {},
   "outputs": [],
   "source": [
    "# 신경망의 가중치와 편향을 초기화해주는 함수\n",
    "def initialize_parameters(neurons_per_layer):\n",
    "    L = len(neurons_per_layer) - 1 # 층 개수 저장\n",
    "    parameters = {}\n",
    "    \n",
    "    # 1층부터 L층까지 돌면서 가중치와 편향 초기화\n",
    "    for l in range(1,L+1):\n",
    "        \n",
    "        # l층 가중치 행렬의 차원은 (l층 뉴런개수)x(l-1층 뉴런의 개수)\n",
    "        # l층 편향벡터의 길이는 l\n",
    "        parameters['W' + str(l)] = np.random.randn(neurons_per_layer[l],neurons_per_layer[l-1])/np.sqrt(neurons_per_layer[l])\n",
    "        parameters['b' + str(l)] = np.random.randn(neurons_per_layer[l])/np.sqrt(neurons_per_layer[l])\n",
    "        \n",
    "    return parameters\n",
    "\n",
    "# # 테스트코드\n",
    "# neurons_per_layer = [10, 5, 5, 3]\n",
    "# parameters = initialize_parameters(neurons_per_layer)\n",
    "# print(\"parameter : \\n {}\\n\\n\".format(parameters))\n",
    "# print(\"lenth of parameter : {}\".format(len(parameters)))"
   ]
  },
  {
   "cell_type": "code",
   "execution_count": 9,
   "id": "fb036891-be66-4039-b0fa-f38e934c1b47",
   "metadata": {},
   "outputs": [
    {
     "data": {
      "text/plain": [
       "array([0.39847399, 0.63077823, 0.79833093, 0.9305652 , 0.67941177,\n",
       "       0.67579947, 0.05318345, 0.37468731, 0.12677545, 0.64191774])"
      ]
     },
     "execution_count": 9,
     "metadata": {},
     "output_type": "execute_result"
    }
   ],
   "source": [
    "# 순전파 Forward propergate 함수 정의\n",
    "def feed_forward(x, parameters):\n",
    "    \"\"\"순전파 함수\"\"\"\n",
    "    cache = {'a0': x}  # 0 번째 층 출력 저장\n",
    "    L = len(parameters) // 2  # 층 수 저장 --> 파라미터에 whigt, bias있으니까 2로 나눔\n",
    "    \n",
    "    for l in range(1, L+1):\n",
    "        # 전 층 뉴런의 출력, 현재 층 뉴런들의 가중치, 편향 데이터를 가지고 온다 (여기에 코드를 작성하세요)\n",
    "        a_prev = cache['a' + str(l-1)]\n",
    "        W = parameters['W'+ str(l)]\n",
    "        b = parameters['b'+ str(l)]\n",
    "        \n",
    "        # 가지고 온 데이터로 z와 a를 계산한다. (여기에 코드를 작성하세요)\n",
    "        z = W @ a_prev + b\n",
    "        a = sigmoid(z)\n",
    "\n",
    "        # 결과 값을 캐시에 저장한다.\n",
    "        cache['z' + str(l)] = z\n",
    "        cache['a' + str(l)] = a\n",
    "                \n",
    "    return a, cache\n",
    "\n",
    "# 테스트 코드\n",
    "neurons_per_layer = [784, 128, 64, 10]\n",
    "parameters = initialize_parameters(neurons_per_layer)\n",
    "feed_forward(X_train[0], parameters)[0]"
   ]
  },
  {
   "cell_type": "code",
   "execution_count": null,
   "id": "cca53e40-9e90-44db-bd40-d891ef00ddce",
   "metadata": {},
   "outputs": [],
   "source": []
  },
  {
   "cell_type": "code",
   "execution_count": null,
   "id": "1b3ed351-2638-4127-829d-b699089b2a84",
   "metadata": {},
   "outputs": [],
   "source": []
  }
 ],
 "metadata": {
  "kernelspec": {
   "display_name": "Python (Jonghyeok_env)",
   "language": "python",
   "name": "jonghyeok_env"
  },
  "language_info": {
   "codemirror_mode": {
    "name": "ipython",
    "version": 3
   },
   "file_extension": ".py",
   "mimetype": "text/x-python",
   "name": "python",
   "nbconvert_exporter": "python",
   "pygments_lexer": "ipython3",
   "version": "3.7.12"
  }
 },
 "nbformat": 4,
 "nbformat_minor": 5
}
