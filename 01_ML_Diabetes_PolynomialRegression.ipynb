{
 "cells": [
  {
   "cell_type": "code",
   "execution_count": 1,
   "id": "c8684177-53c8-45cd-99ed-c396d65487bf",
   "metadata": {},
   "outputs": [],
   "source": [
    "# 0.필요모듈 import\n",
    "from sklearn import datasets\n",
    "from sklearn.preprocessing import PolynomialFeatures\n",
    "\n",
    "from sklearn.model_selection import train_test_split\n",
    "from sklearn.linear_model import LinearRegression\n",
    "from sklearn.metrics import mean_squared_error\n",
    "from sklearn.cluster import KMeans\n",
    "\n",
    "import pandas as pd  "
   ]
  },
  {
   "cell_type": "code",
   "execution_count": 2,
   "id": "91dffabe-211d-4ca8-bd2d-c55578c06385",
   "metadata": {},
   "outputs": [
    {
     "name": "stdout",
     "output_type": "stream",
     "text": [
      "<class 'sklearn.utils.Bunch'>\n"
     ]
    }
   ],
   "source": [
    "# 1. 데이터셋 로드\n",
    "diabetes_dataset = datasets.load_diabetes()\n",
    "\n",
    "# 1.1 변수 타입 및 속성 확인\n",
    "print(type(diabetes_dataset))"
   ]
  },
  {
   "cell_type": "code",
   "execution_count": 3,
   "id": "93694b72-8bdc-4aaa-8cb7-770ef2793d94",
   "metadata": {},
   "outputs": [
    {
     "name": "stdout",
     "output_type": "stream",
     "text": [
      "['DESCR', 'data', 'data_filename', 'data_module', 'feature_names', 'frame', 'target', 'target_filename']\n"
     ]
    }
   ],
   "source": [
    "print(dir(diabetes_dataset))"
   ]
  },
  {
   "cell_type": "code",
   "execution_count": 4,
   "id": "2c7e8a3c-14cd-4335-8867-f81c711eec32",
   "metadata": {},
   "outputs": [
    {
     "name": "stdout",
     "output_type": "stream",
     "text": [
      "Description of data : \n",
      " .. _diabetes_dataset:\n",
      "\n",
      "Diabetes dataset\n",
      "----------------\n",
      "\n",
      "Ten baseline variables, age, sex, body mass index, average blood\n",
      "pressure, and six blood serum measurements were obtained for each of n =\n",
      "442 diabetes patients, as well as the response of interest, a\n",
      "quantitative measure of disease progression one year after baseline.\n",
      "\n",
      "**Data Set Characteristics:**\n",
      "\n",
      "  :Number of Instances: 442\n",
      "\n",
      "  :Number of Attributes: First 10 columns are numeric predictive values\n",
      "\n",
      "  :Target: Column 11 is a quantitative measure of disease progression one year after baseline\n",
      "\n",
      "  :Attribute Information:\n",
      "      - age     age in years\n",
      "      - sex\n",
      "      - bmi     body mass index\n",
      "      - bp      average blood pressure\n",
      "      - s1      tc, total serum cholesterol\n",
      "      - s2      ldl, low-density lipoproteins\n",
      "      - s3      hdl, high-density lipoproteins\n",
      "      - s4      tch, total cholesterol / HDL\n",
      "      - s5      ltg, possibly log of serum triglycerides level\n",
      "      - s6      glu, blood sugar level\n",
      "\n",
      "Note: Each of these 10 feature variables have been mean centered and scaled by the standard deviation times `n_samples` (i.e. the sum of squares of each column totals 1).\n",
      "\n",
      "Source URL:\n",
      "https://www4.stat.ncsu.edu/~boos/var.select/diabetes.html\n",
      "\n",
      "For more information see:\n",
      "Bradley Efron, Trevor Hastie, Iain Johnstone and Robert Tibshirani (2004) \"Least Angle Regression,\" Annals of Statistics (with discussion), 407-499.\n",
      "(https://web.stanford.edu/~hastie/Papers/LARS/LeastAngle_2002.pdf) \n",
      "\n",
      "\n",
      "feature names of data : \n",
      " ['age', 'sex', 'bmi', 'bp', 's1', 's2', 's3', 's4', 's5', 's6']\n",
      "\n",
      "\n",
      "data : \n",
      " [[ 0.03807591  0.05068012  0.06169621 ... -0.00259226  0.01990842\n",
      "  -0.01764613]\n",
      " [-0.00188202 -0.04464164 -0.05147406 ... -0.03949338 -0.06832974\n",
      "  -0.09220405]\n",
      " [ 0.08529891  0.05068012  0.04445121 ... -0.00259226  0.00286377\n",
      "  -0.02593034]\n",
      " ...\n",
      " [ 0.04170844  0.05068012 -0.01590626 ... -0.01107952 -0.04687948\n",
      "   0.01549073]\n",
      " [-0.04547248 -0.04464164  0.03906215 ...  0.02655962  0.04452837\n",
      "  -0.02593034]\n",
      " [-0.04547248 -0.04464164 -0.0730303  ... -0.03949338 -0.00421986\n",
      "   0.00306441]]\n",
      "\n",
      "\n"
     ]
    }
   ],
   "source": [
    "# 2. 데이터 정보 확인\n",
    "print(\"Description of data : \\n {} \\n\\n\".format(diabetes_dataset.DESCR))\n",
    "print(\"feature names of data : \\n {}\\n\\n\".format(diabetes_dataset.feature_names))\n",
    "print(\"data : \\n {}\\n\\n\".format(diabetes_dataset.data))\n"
   ]
  },
  {
   "cell_type": "code",
   "execution_count": 5,
   "id": "86806dce-de51-4839-92c5-3cc8f606e7c4",
   "metadata": {},
   "outputs": [
    {
     "name": "stdout",
     "output_type": "stream",
     "text": [
      "polynomial_data : \n",
      " [[ 1.00000000e+00  3.80759064e-02  5.06801187e-02 ...  3.96345222e-04\n",
      "  -3.51306487e-04  3.11385733e-04]\n",
      " [ 1.00000000e+00 -1.88201653e-03 -4.46416365e-02 ...  4.66895386e-03\n",
      "   6.30027907e-03  8.50158677e-03]\n",
      " [ 1.00000000e+00  8.52989063e-02  5.06801187e-02 ...  8.20118159e-06\n",
      "  -7.42585403e-05  6.72382480e-04]\n",
      " ...\n",
      " [ 1.00000000e+00  4.17084449e-02  5.06801187e-02 ...  2.19768591e-03\n",
      "  -7.26197419e-04  2.39962721e-04]\n",
      " [ 1.00000000e+00 -4.54724779e-02 -4.46416365e-02 ...  1.98277609e-03\n",
      "  -1.15463583e-03  6.72382480e-04]\n",
      " [ 1.00000000e+00 -4.54724779e-02 -4.46416365e-02 ...  1.78072159e-05\n",
      "  -1.29313778e-05  9.39060506e-06]] \n",
      "\n",
      "\n",
      "polynomial_feature_names : \n",
      " ['1' 'age' 'sex' 'bmi' 'bp' 's1' 's2' 's3' 's4' 's5' 's6' 'age^2'\n",
      " 'age sex' 'age bmi' 'age bp' 'age s1' 'age s2' 'age s3' 'age s4' 'age s5'\n",
      " 'age s6' 'sex^2' 'sex bmi' 'sex bp' 'sex s1' 'sex s2' 'sex s3' 'sex s4'\n",
      " 'sex s5' 'sex s6' 'bmi^2' 'bmi bp' 'bmi s1' 'bmi s2' 'bmi s3' 'bmi s4'\n",
      " 'bmi s5' 'bmi s6' 'bp^2' 'bp s1' 'bp s2' 'bp s3' 'bp s4' 'bp s5' 'bp s6'\n",
      " 's1^2' 's1 s2' 's1 s3' 's1 s4' 's1 s5' 's1 s6' 's2^2' 's2 s3' 's2 s4'\n",
      " 's2 s5' 's2 s6' 's3^2' 's3 s4' 's3 s5' 's3 s6' 's4^2' 's4 s5' 's4 s6'\n",
      " 's5^2' 's5 s6' 's6^2'] \n",
      "\n",
      "\n"
     ]
    }
   ],
   "source": [
    "# 3. 다항속성 생성\n",
    "# 2차 다항회귀 설정\n",
    "polynomial_transformer = PolynomialFeatures(2)\n",
    "\n",
    "# 2차 속성 생성\n",
    "polynomial_data = polynomial_transformer.fit_transform(diabetes_dataset.data)\n",
    "print(\"polynomial_data : \\n {} \\n\\n\".format(polynomial_data))\n",
    "\n",
    "# 2차 속성의 이름\n",
    "polynomial_feature_names = polynomial_transformer.get_feature_names_out(diabetes_dataset.feature_names)\n",
    "print(\"polynomial_feature_names : \\n {} \\n\\n\".format(polynomial_feature_names))"
   ]
  },
  {
   "cell_type": "code",
   "execution_count": 6,
   "id": "d75fd992-96c7-4e0c-a34d-e4046ed1061c",
   "metadata": {},
   "outputs": [],
   "source": [
    "# 4. DataFrame으로 변환\n",
    "# Data\n",
    "X = pd.DataFrame(polynomial_data, columns=polynomial_feature_names)\n",
    "\n",
    "# Target\n",
    "y = pd.DataFrame(diabetes_dataset.target, columns=['diabetes'])"
   ]
  },
  {
   "cell_type": "code",
   "execution_count": 7,
   "id": "b8ceaaf7-b807-431d-a992-32f5719b9453",
   "metadata": {},
   "outputs": [],
   "source": [
    "# 5. 머신러닝 알고리즘 사용을 위한 train, test set 구성\n",
    "X_train, X_test, y_train, y_test = train_test_split(X, y, test_size=0.2, random_state=5)"
   ]
  },
  {
   "cell_type": "code",
   "execution_count": 8,
   "id": "6cb9e14a-34d8-48bc-a91a-62342d06d2d0",
   "metadata": {},
   "outputs": [
    {
     "data": {
      "text/plain": [
       "LinearRegression()"
      ]
     },
     "execution_count": 8,
     "metadata": {},
     "output_type": "execute_result"
    }
   ],
   "source": [
    "# 6. 머신러닝을 위한 모델 선정 및 학습\n",
    "# LinearRegression 사용\n",
    "model = LinearRegression()\n",
    "model.fit(X_train, y_train)"
   ]
  },
  {
   "cell_type": "code",
   "execution_count": 9,
   "id": "a0d1f650-30eb-4c9b-9e20-d550171f2ea2",
   "metadata": {},
   "outputs": [
    {
     "name": "stdout",
     "output_type": "stream",
     "text": [
      "theta 0 : \n",
      " [-115.37328603]\n",
      "theta 1 ~ n  : \n",
      " [[-1.52450828e-07  9.10505214e+01 -3.06205123e+02  4.67467078e+02\n",
      "   3.61582517e+02 -5.84529582e+04  5.14043898e+04  2.14657451e+04\n",
      "  -1.40195088e+02  1.98245032e+04  1.91613198e+01  1.23203317e+03\n",
      "   2.20866661e+03 -8.70149982e+02  1.40586771e+03  1.28364692e+03\n",
      "  -7.01696393e+03  5.24984110e+03  7.80356381e+03  8.91916834e+02\n",
      "   1.23933345e+03 -1.84901419e+00  8.28798375e+02  1.78140473e+03\n",
      "   4.24712314e+03 -3.19149460e+03 -2.79840398e+03 -5.62702982e+03\n",
      "  -3.71764404e+01  1.84343895e+03  2.40735669e+02  4.49244847e+03\n",
      "  -5.58907360e+03  4.89526278e+03  8.69628355e+02 -6.74079993e+02\n",
      "   1.50242757e+03  1.45862960e+03 -6.13022041e+02  1.69684979e+04\n",
      "  -1.23256448e+04 -5.07018127e+03 -5.55266896e+02 -6.34906034e+03\n",
      "  -3.59928324e+03  2.29649995e+04 -2.43678707e+04 -1.19409302e+04\n",
      "  -1.80433446e+04  1.65129489e+05 -3.85734734e+03  6.93446815e+03\n",
      "  -5.86376496e+02  4.11726562e+03 -1.48232008e+05  2.59165327e+03\n",
      "   4.10474556e+03  1.63750493e+04 -6.57527634e+04  5.67955240e+03\n",
      "   1.27796764e+04 -7.56058925e+02  2.66069102e+03  4.44935022e+04\n",
      "   2.78449118e+03  1.50958588e+03]]\n"
     ]
    }
   ],
   "source": [
    "# 최적화된 theta값 확인\n",
    "print(\"theta 0 : \\n\", model.intercept_)\n",
    "print(\"theta 1 ~ n  : \\n\",model.coef_)"
   ]
  },
  {
   "cell_type": "code",
   "execution_count": 10,
   "id": "bbe34820-3919-43b9-9c65-88e14fda9d29",
   "metadata": {},
   "outputs": [
    {
     "data": {
      "text/plain": [
       "57.87704902724893"
      ]
     },
     "execution_count": 10,
     "metadata": {},
     "output_type": "execute_result"
    }
   ],
   "source": [
    "# 7. 최적화된 모델을 바탕으로 Test data 예측\n",
    "y_test_predict = model.predict(X_test)\n",
    "\n",
    "# Test datd와 예측값의 오차를 RMSE 로 나타냄\n",
    "RMSE = mean_squared_error(y_test, y_test_predict) ** 0.5\n",
    "\n",
    "RMSE"
   ]
  }
 ],
 "metadata": {
  "kernelspec": {
   "display_name": "Python (Jonghyeok_env)",
   "language": "python",
   "name": "jonghyeok_env"
  },
  "language_info": {
   "codemirror_mode": {
    "name": "ipython",
    "version": 3
   },
   "file_extension": ".py",
   "mimetype": "text/x-python",
   "name": "python",
   "nbconvert_exporter": "python",
   "pygments_lexer": "ipython3",
   "version": "3.7.12"
  }
 },
 "nbformat": 4,
 "nbformat_minor": 5
}
